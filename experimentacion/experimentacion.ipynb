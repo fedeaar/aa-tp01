{
 "cells": [
  {
   "cell_type": "code",
   "execution_count": 1,
   "metadata": {},
   "outputs": [],
   "source": [
    "import pandas as pd\n",
    "import numpy as np\n",
    "%matplotlib inline\n",
    "import matplotlib.pyplot as plt\n",
    "\n",
    "from utils.train_test_split import train_test_split\n",
    "from utils.cross_validation import cross_validate\n",
    "from utils.estimators import DecisionTree\n",
    "import utils.metrics as metrics\n",
    "\n",
    "from sklearn.metrics import PrecisionRecallDisplay, RocCurveDisplay"
   ]
  },
  {
   "cell_type": "code",
   "execution_count": 8,
   "metadata": {},
   "outputs": [],
   "source": [
    "# we assume we are running from ./experimentacion\n",
    "gene_dataset = pd.read_csv(\"../catedra/datos/data.csv\", delimiter=',', encoding=\"utf-8\")\n",
    "X = gene_dataset.drop(\"target\", axis=1).to_numpy()\n",
    "y = gene_dataset.target.to_numpy()\n",
    "\n",
    "X_train, X_test, y_train, y_test = train_test_split(X, y)"
   ]
  },
  {
   "cell_type": "code",
   "execution_count": null,
   "metadata": {},
   "outputs": [],
   "source": [
    "# ej. 2.1\n",
    "model = DecisionTree(max_depth=3)\n",
    "trained_model = model.clone().fit(X_train, y_train)"
   ]
  },
  {
   "cell_type": "code",
   "execution_count": null,
   "metadata": {},
   "outputs": [],
   "source": [
    "# ej. 2.2\n",
    "\n",
    "# accuracy\n",
    "acc_split_train, acc_split_val, acc_y_pred = cross_validate(model, X_train, y_train, metrics.accuracy, False)\n",
    "acc_tot = metrics.accuracy(y_train, acc_y_pred)\n",
    "acc_mean_train = acc_split_train.mean()\n",
    "acc_mean_val = acc_split_val.mean()\n",
    "print(\n",
    "    f\"---accuracy---\\ntot:{acc_tot},\\\n",
    "    \\n mean_train:{acc_mean_train}, split_train:{acc_split_train},\\\n",
    "    \\n mean_val:{acc_mean_val}, split_val:{acc_split_val}\")\n",
    "\n",
    "# auprc\n",
    "auprc_split_train, auprc_split_val, auprc_y_prob = cross_validate(model, X_train, y_train, metrics.auprc, True)\n",
    "auprc_tot = metrics.auprc(y_train, auprc_y_prob)\n",
    "auprc_mean_train = auprc_split_train.mean()\n",
    "auprc_mean_val = auprc_split_val.mean()\n",
    "print(\n",
    "    f\"---auprc---\\ntot:{auprc_tot},\\\n",
    "    \\n mean_train:{auprc_mean_train}, split_train:{auprc_split_train},\\\n",
    "    \\n mean_val:{auprc_mean_val}, split_val:{auprc_split_val}\")\n",
    "plt.figure(figsize=(10, 10))\n",
    "PrecisionRecallDisplay.from_predictions(y_train, auprc_y_prob).plot()\n",
    "plt.show()\n",
    "\n",
    "# aucroc\n",
    "aucroc_split_train, aucroc_split_val, aucroc_y_prob = cross_validate(model, X_train, y_train, metrics.aucroc, True)\n",
    "aucroc_tot = metrics.aucroc(y_train, aucroc_y_prob)\n",
    "aucroc_mean_train = aucroc_split_train.mean()\n",
    "aucroc_mean_val = aucroc_split_val.mean()\n",
    "print(\n",
    "    f\"---aucroc---\\ntot:{aucroc_tot},\\\n",
    "    \\n mean_train:{aucroc_mean_train}, split_train:{aucroc_split_train},\\\n",
    "    \\n mean_val:{aucroc_mean_val}, split_val:{aucroc_split_val}\")\n",
    "plt.figure(figsize=(10, 10))\n",
    "RocCurveDisplay.from_predictions(y_train, aucroc_y_prob).plot()\n",
    "plt.show()"
   ]
  }
 ],
 "metadata": {
  "kernelspec": {
   "display_name": "Python 3",
   "language": "python",
   "name": "python3"
  },
  "language_info": {
   "codemirror_mode": {
    "name": "ipython",
    "version": 3
   },
   "file_extension": ".py",
   "mimetype": "text/x-python",
   "name": "python",
   "nbconvert_exporter": "python",
   "pygments_lexer": "ipython3",
   "version": "3.12.0"
  }
 },
 "nbformat": 4,
 "nbformat_minor": 2
}
