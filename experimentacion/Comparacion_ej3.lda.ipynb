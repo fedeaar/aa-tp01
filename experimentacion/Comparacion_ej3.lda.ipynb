{
 "cells": [
  {
   "cell_type": "code",
   "execution_count": 2,
   "id": "19ecd871",
   "metadata": {},
   "outputs": [],
   "source": [
    "import sklearn as sklearn\n",
    "import scipy.stats as stats\n",
    "from sklearn.discriminant_analysis import LinearDiscriminantAnalysis\n",
    "from sklearn.model_selection import StratifiedKFold\n",
    "from sklearn.model_selection import RandomizedSearchCV\n",
    "\n",
    "from utils.randomized_search import pNpUniform, rs_results\n",
    "from utils.base_set import X_train, y_train, seed"
   ]
  },
  {
   "cell_type": "markdown",
   "id": "2886f82b",
   "metadata": {},
   "source": [
    "### LDA "
   ]
  },
  {
   "cell_type": "code",
   "execution_count": 3,
   "id": "40c3791b",
   "metadata": {},
   "outputs": [
    {
     "data": {
      "text/html": [
       "<div>\n",
       "<style scoped>\n",
       "    .dataframe tbody tr th:only-of-type {\n",
       "        vertical-align: middle;\n",
       "    }\n",
       "\n",
       "    .dataframe tbody tr th {\n",
       "        vertical-align: top;\n",
       "    }\n",
       "\n",
       "    .dataframe thead th {\n",
       "        text-align: right;\n",
       "    }\n",
       "</style>\n",
       "<table border=\"1\" class=\"dataframe\">\n",
       "  <thead>\n",
       "    <tr style=\"text-align: right;\">\n",
       "      <th></th>\n",
       "      <th>param_solver</th>\n",
       "      <th>param_shrinkage</th>\n",
       "      <th>mean_test_score</th>\n",
       "      <th>rank_test_score</th>\n",
       "    </tr>\n",
       "  </thead>\n",
       "  <tbody>\n",
       "    <tr>\n",
       "      <th>68</th>\n",
       "      <td>lsqr</td>\n",
       "      <td>0.272309</td>\n",
       "      <td>0.864894</td>\n",
       "      <td>1</td>\n",
       "    </tr>\n",
       "    <tr>\n",
       "      <th>40</th>\n",
       "      <td>eigen</td>\n",
       "      <td>0.270007</td>\n",
       "      <td>0.864894</td>\n",
       "      <td>1</td>\n",
       "    </tr>\n",
       "    <tr>\n",
       "      <th>46</th>\n",
       "      <td>lsqr</td>\n",
       "      <td>0.266565</td>\n",
       "      <td>0.864894</td>\n",
       "      <td>3</td>\n",
       "    </tr>\n",
       "    <tr>\n",
       "      <th>56</th>\n",
       "      <td>lsqr</td>\n",
       "      <td>0.274341</td>\n",
       "      <td>0.864779</td>\n",
       "      <td>4</td>\n",
       "    </tr>\n",
       "    <tr>\n",
       "      <th>92</th>\n",
       "      <td>eigen</td>\n",
       "      <td>0.288274</td>\n",
       "      <td>0.864552</td>\n",
       "      <td>5</td>\n",
       "    </tr>\n",
       "    <tr>\n",
       "      <th>...</th>\n",
       "      <td>...</td>\n",
       "      <td>...</td>\n",
       "      <td>...</td>\n",
       "      <td>...</td>\n",
       "    </tr>\n",
       "    <tr>\n",
       "      <th>58</th>\n",
       "      <td>eigen</td>\n",
       "      <td>0.976675</td>\n",
       "      <td>0.777749</td>\n",
       "      <td>96</td>\n",
       "    </tr>\n",
       "    <tr>\n",
       "      <th>12</th>\n",
       "      <td>lsqr</td>\n",
       "      <td>0.981865</td>\n",
       "      <td>0.774629</td>\n",
       "      <td>97</td>\n",
       "    </tr>\n",
       "    <tr>\n",
       "      <th>55</th>\n",
       "      <td>eigen</td>\n",
       "      <td>0.00662</td>\n",
       "      <td>0.767595</td>\n",
       "      <td>98</td>\n",
       "    </tr>\n",
       "    <tr>\n",
       "      <th>54</th>\n",
       "      <td>eigen</td>\n",
       "      <td>0.005946</td>\n",
       "      <td>0.764031</td>\n",
       "      <td>99</td>\n",
       "    </tr>\n",
       "    <tr>\n",
       "      <th>24</th>\n",
       "      <td>eigen</td>\n",
       "      <td>0.001056</td>\n",
       "      <td>0.730419</td>\n",
       "      <td>100</td>\n",
       "    </tr>\n",
       "  </tbody>\n",
       "</table>\n",
       "<p>100 rows × 4 columns</p>\n",
       "</div>"
      ],
      "text/plain": [
       "   param_solver param_shrinkage  mean_test_score  rank_test_score\n",
       "68         lsqr        0.272309         0.864894                1\n",
       "40        eigen        0.270007         0.864894                1\n",
       "46         lsqr        0.266565         0.864894                3\n",
       "56         lsqr        0.274341         0.864779                4\n",
       "92        eigen        0.288274         0.864552                5\n",
       "..          ...             ...              ...              ...\n",
       "58        eigen        0.976675         0.777749               96\n",
       "12         lsqr        0.981865         0.774629               97\n",
       "55        eigen         0.00662         0.767595               98\n",
       "54        eigen        0.005946         0.764031               99\n",
       "24        eigen        0.001056         0.730419              100\n",
       "\n",
       "[100 rows x 4 columns]"
      ]
     },
     "execution_count": 3,
     "metadata": {},
     "output_type": "execute_result"
    }
   ],
   "source": [
    "model = LinearDiscriminantAnalysis()\n",
    "k = 5\n",
    "cv = StratifiedKFold(n_splits=k, shuffle=True, random_state=seed)\n",
    "params = {\n",
    "    'solver': [\"lsqr\", \"eigen\"], \n",
    "    #'priors': pNpUniform(0, 1),\n",
    "    #'tol': stats.uniform(0, 1e-2),\n",
    "    'shrinkage': stats.uniform(0,1),\n",
    "    #'store_covariance': [True,False],\n",
    "}\n",
    "n_iter = 100\n",
    "classifier_LDA = RandomizedSearchCV(estimator=model,\n",
    "                                param_distributions=params,\n",
    "                                cv=cv,\n",
    "                                n_iter=n_iter,\n",
    "                                scoring=\"roc_auc\",\n",
    "                                random_state=seed)\n",
    "classifier_LDA.fit(X_train, y_train)\n",
    "rs_results(classifier_LDA.cv_results_, params)"
   ]
  },
  {
   "cell_type": "code",
   "execution_count": 4,
   "id": "ee2cc881",
   "metadata": {},
   "outputs": [
    {
     "data": {
      "text/plain": [
       "{'shrinkage': 0.2700067367383665, 'solver': 'eigen'}"
      ]
     },
     "execution_count": 4,
     "metadata": {},
     "output_type": "execute_result"
    }
   ],
   "source": [
    "classifier_LDA.best_params_"
   ]
  }
 ],
 "metadata": {
  "kernelspec": {
   "display_name": "Python 3 (ipykernel)",
   "language": "python",
   "name": "python3"
  },
  "language_info": {
   "codemirror_mode": {
    "name": "ipython",
    "version": 3
   },
   "file_extension": ".py",
   "mimetype": "text/x-python",
   "name": "python",
   "nbconvert_exporter": "python",
   "pygments_lexer": "ipython3",
   "version": "3.10.12"
  }
 },
 "nbformat": 4,
 "nbformat_minor": 5
}
