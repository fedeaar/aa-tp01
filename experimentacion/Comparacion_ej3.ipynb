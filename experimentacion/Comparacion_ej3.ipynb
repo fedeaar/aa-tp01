{
 "cells": [
  {
   "cell_type": "code",
   "execution_count": 15,
   "id": "19ecd871",
   "metadata": {},
   "outputs": [],
   "source": [
    "%matplotlib inline\n",
    "import matplotlib.pyplot as plt\n",
    "import numpy as np \n",
    "\n",
    "import pandas as pd\n",
    "import sklearn as sklearn\n",
    "from sklearn import svm\n",
    "from sklearn.naive_bayes import GaussianNB\n",
    "from sklearn.discriminant_analysis import LinearDiscriminantAnalysis\n",
    "from sklearn.metrics import PrecisionRecallDisplay, RocCurveDisplay\n",
    "from sklearn.model_selection import StratifiedKFold, ParameterGrid\n",
    "from sklearn.model_selection import RandomizedSearchCV\n",
    "from sklearn.neighbors import KNeighborsClassifier\n",
    "from sklearn.utils.fixes import loguniform\n",
    "\n",
    "from utils.randomized_search import logUnifD\n",
    "from utils.base_set import X_train, y_train, seed\n",
    "from utils.cross_validation import cross_validate\n",
    "import utils.metrics as metrics\n",
    "from utils.estimators import DecisionTree"
   ]
  },
  {
   "cell_type": "markdown",
   "id": "948c93a3",
   "metadata": {},
   "source": [
    "### Decision Tree"
   ]
  },
  {
   "cell_type": "code",
   "execution_count": 2,
   "id": "b64cc95b",
   "metadata": {},
   "outputs": [],
   "source": [
    "model1 = DecisionTree()"
   ]
  },
  {
   "cell_type": "code",
   "execution_count": 79,
   "id": "f82eff86",
   "metadata": {},
   "outputs": [],
   "source": [
    "k = 5\n",
    "param = {\n",
    "    'criterion':[\"gini\",\"entropy\"],\n",
    "    'max_depth':[1,2,3,4,5]\n",
    "}"
   ]
  },
  {
   "cell_type": "code",
   "execution_count": 5,
   "id": "c960e768",
   "metadata": {},
   "outputs": [],
   "source": [
    "classifier_Dtree = RandomizedSearchCV(estimator = model1.estimator, \n",
    "                                param_distributions = param,\n",
    "                                cv = k,\n",
    "                                scoring = \"roc_auc\"\n",
    "                               )"
   ]
  },
  {
   "cell_type": "code",
   "execution_count": 6,
   "id": "c020ddc8",
   "metadata": {},
   "outputs": [
    {
     "data": {
      "text/plain": [
       "RandomizedSearchCV(cv=5, estimator=DecisionTreeClassifier(),\n",
       "                   param_distributions={'criterion': ['gini', 'entropy'],\n",
       "                                        'max_depth': [1, 2, 3, 4, 5]},\n",
       "                   scoring='roc_auc')"
      ]
     },
     "execution_count": 6,
     "metadata": {},
     "output_type": "execute_result"
    }
   ],
   "source": [
    "classifier_Dtree.fit(X_train,y_train)"
   ]
  },
  {
   "cell_type": "code",
   "execution_count": 7,
   "id": "a3a48d36",
   "metadata": {},
   "outputs": [
    {
     "name": "stdout",
     "output_type": "stream",
     "text": [
      "{'max_depth': 3, 'criterion': 'entropy'}\n",
      "0.6617407645236837\n"
     ]
    }
   ],
   "source": [
    "best = classifier_Dtree.best_params_\n",
    "print(best)\n",
    "auc_roc = classifier_Dtree.best_score_\n",
    "print(auc_roc)"
   ]
  },
  {
   "cell_type": "code",
   "execution_count": 42,
   "id": "44e965fd",
   "metadata": {},
   "outputs": [
    {
     "data": {
      "text/plain": [
       "[{'max_depth': 1, 'criterion': 'gini'},\n",
       " {'max_depth': 2, 'criterion': 'gini'},\n",
       " {'max_depth': 3, 'criterion': 'gini'},\n",
       " {'max_depth': 4, 'criterion': 'gini'},\n",
       " {'max_depth': 5, 'criterion': 'gini'},\n",
       " {'max_depth': 1, 'criterion': 'entropy'},\n",
       " {'max_depth': 2, 'criterion': 'entropy'},\n",
       " {'max_depth': 3, 'criterion': 'entropy'},\n",
       " {'max_depth': 4, 'criterion': 'entropy'},\n",
       " {'max_depth': 5, 'criterion': 'entropy'}]"
      ]
     },
     "execution_count": 42,
     "metadata": {},
     "output_type": "execute_result"
    }
   ],
   "source": [
    "classifier_Dtree.cv_results_['params']"
   ]
  },
  {
   "cell_type": "code",
   "execution_count": 57,
   "id": "dea97792",
   "metadata": {},
   "outputs": [
    {
     "data": {
      "text/html": [
       "<div>\n",
       "<style scoped>\n",
       "    .dataframe tbody tr th:only-of-type {\n",
       "        vertical-align: middle;\n",
       "    }\n",
       "\n",
       "    .dataframe tbody tr th {\n",
       "        vertical-align: top;\n",
       "    }\n",
       "\n",
       "    .dataframe thead th {\n",
       "        text-align: right;\n",
       "    }\n",
       "</style>\n",
       "<table border=\"1\" class=\"dataframe\">\n",
       "  <thead>\n",
       "    <tr style=\"text-align: right;\">\n",
       "      <th></th>\n",
       "      <th>0</th>\n",
       "    </tr>\n",
       "  </thead>\n",
       "  <tbody>\n",
       "    <tr>\n",
       "      <th>0</th>\n",
       "      <td>0.614622</td>\n",
       "    </tr>\n",
       "    <tr>\n",
       "      <th>1</th>\n",
       "      <td>0.620432</td>\n",
       "    </tr>\n",
       "    <tr>\n",
       "      <th>2</th>\n",
       "      <td>0.570875</td>\n",
       "    </tr>\n",
       "    <tr>\n",
       "      <th>3</th>\n",
       "      <td>0.568978</td>\n",
       "    </tr>\n",
       "    <tr>\n",
       "      <th>4</th>\n",
       "      <td>0.562236</td>\n",
       "    </tr>\n",
       "    <tr>\n",
       "      <th>5</th>\n",
       "      <td>0.602087</td>\n",
       "    </tr>\n",
       "    <tr>\n",
       "      <th>6</th>\n",
       "      <td>0.632180</td>\n",
       "    </tr>\n",
       "    <tr>\n",
       "      <th>7</th>\n",
       "      <td>0.661741</td>\n",
       "    </tr>\n",
       "    <tr>\n",
       "      <th>8</th>\n",
       "      <td>0.624766</td>\n",
       "    </tr>\n",
       "    <tr>\n",
       "      <th>9</th>\n",
       "      <td>0.589144</td>\n",
       "    </tr>\n",
       "  </tbody>\n",
       "</table>\n",
       "</div>"
      ],
      "text/plain": [
       "          0\n",
       "0  0.614622\n",
       "1  0.620432\n",
       "2  0.570875\n",
       "3  0.568978\n",
       "4  0.562236\n",
       "5  0.602087\n",
       "6  0.632180\n",
       "7  0.661741\n",
       "8  0.624766\n",
       "9  0.589144"
      ]
     },
     "execution_count": 57,
     "metadata": {},
     "output_type": "execute_result"
    }
   ],
   "source": [
    "grid = {\n",
    "    'random_state' : [seed],\n",
    "    'auc_roc': [\"roc\"],\n",
    "}\n",
    "keys = grid.keys()\n",
    "score = classifier_Dtree.cv_results_['mean_test_score']\n",
    "params = classifier_Dtree.cv_results_['params']\n",
    "\n",
    "pd.DataFrame(\n",
    "    score,\n",
    "    #params\n",
    "#columns = list(keys) + list(classifier_Dtree.cv_results_['params'][1].keys())\n",
    ")\n"
   ]
  },
  {
   "cell_type": "code",
   "execution_count": 83,
   "id": "73d44920",
   "metadata": {},
   "outputs": [
    {
     "name": "stdout",
     "output_type": "stream",
     "text": [
      "gini\n",
      "1\n",
      "gini\n",
      "2\n",
      "gini\n",
      "3\n",
      "gini\n",
      "4\n",
      "gini\n",
      "5\n",
      "entropy\n",
      "1\n",
      "entropy\n",
      "2\n",
      "entropy\n",
      "3\n",
      "entropy\n",
      "4\n",
      "entropy\n",
      "5\n"
     ]
    }
   ],
   "source": [
    "res = []\n",
    "keys = param.keys()\n",
    "for hs in params: \n",
    "    for k in keys: \n",
    "        print(hs[k])\n",
    "    res.append(hs[x] for x in keys)"
   ]
  },
  {
   "cell_type": "code",
   "execution_count": 82,
   "id": "72b547b3",
   "metadata": {},
   "outputs": [
    {
     "data": {
      "text/plain": [
       "dict_keys(['criterion', 'max_depth'])"
      ]
     },
     "execution_count": 82,
     "metadata": {},
     "output_type": "execute_result"
    }
   ],
   "source": [
    "param.keys()"
   ]
  },
  {
   "cell_type": "markdown",
   "id": "41365da9",
   "metadata": {},
   "source": [
    "### KNN "
   ]
  },
  {
   "cell_type": "code",
   "execution_count": 16,
   "id": "6995a865",
   "metadata": {},
   "outputs": [],
   "source": [
    "model2 = KNeighborsClassifier()\n",
    "K = len(X_train)\n",
    "param = {\n",
    "    'n_neighbors': logUnifD(10,K/2)\n",
    "}"
   ]
  },
  {
   "cell_type": "code",
   "execution_count": 17,
   "id": "8dd011b1",
   "metadata": {},
   "outputs": [],
   "source": [
    "classifier_KNN = RandomizedSearchCV(estimator = model2, \n",
    "                                param_distributions = param,\n",
    "                                cv = k,\n",
    "                                scoring = \"roc_auc\", \n",
    "                                random_state = seed\n",
    "                               )"
   ]
  },
  {
   "cell_type": "code",
   "execution_count": 18,
   "id": "84319163",
   "metadata": {
    "scrolled": true
   },
   "outputs": [
    {
     "data": {
      "text/plain": [
       "RandomizedSearchCV(cv=5, estimator=KNeighborsClassifier(),\n",
       "                   param_distributions={'n_neighbors': <utils.randomized_search.logUnifD object at 0x76e8b2fa2620>},\n",
       "                   random_state=8241, scoring='roc_auc')"
      ]
     },
     "execution_count": 18,
     "metadata": {},
     "output_type": "execute_result"
    }
   ],
   "source": [
    "classifier_KNN.fit(X_train,y_train)"
   ]
  },
  {
   "cell_type": "code",
   "execution_count": 19,
   "id": "2f13404d",
   "metadata": {},
   "outputs": [
    {
     "data": {
      "text/plain": [
       "{'mean_fit_time': array([0.00196524, 0.00193357, 0.0019886 , 0.00193868, 0.00195065,\n",
       "        0.0019105 , 0.00192995, 0.00184841, 0.00182638, 0.00183163]),\n",
       " 'std_fit_time': array([9.99048840e-05, 1.21960460e-04, 1.10352873e-04, 1.18801909e-04,\n",
       "        9.81920601e-05, 1.41881564e-04, 5.32004548e-05, 7.15712402e-05,\n",
       "        3.54577727e-05, 2.69813999e-05]),\n",
       " 'mean_score_time': array([0.00863423, 0.01019711, 0.01007285, 0.00886674, 0.00959163,\n",
       "        0.00965133, 0.00890245, 0.00975299, 0.00925045, 0.00840349]),\n",
       " 'std_score_time': array([1.37415385e-04, 3.33858360e-04, 3.51185455e-04, 8.64537986e-05,\n",
       "        2.78723389e-04, 2.33225856e-04, 2.72213283e-04, 1.80676739e-04,\n",
       "        2.42238317e-04, 2.12085858e-04]),\n",
       " 'param_n_neighbors': masked_array(data=[14, 166, 153, 34, 93, 107, 56, 160, 110, 33],\n",
       "              mask=[False, False, False, False, False, False, False, False,\n",
       "                    False, False],\n",
       "        fill_value='?',\n",
       "             dtype=object),\n",
       " 'params': [{'n_neighbors': 14},\n",
       "  {'n_neighbors': 166},\n",
       "  {'n_neighbors': 153},\n",
       "  {'n_neighbors': 34},\n",
       "  {'n_neighbors': 93},\n",
       "  {'n_neighbors': 107},\n",
       "  {'n_neighbors': 56},\n",
       "  {'n_neighbors': 160},\n",
       "  {'n_neighbors': 110},\n",
       "  {'n_neighbors': 33}],\n",
       " 'split0_test_score': array([0.78168203, 0.78542627, 0.78657834, 0.80414747, 0.80587558,\n",
       "        0.80040323, 0.80328341, 0.78254608, 0.80040323, 0.8125    ]),\n",
       " 'split1_test_score': array([0.85685484, 0.77361751, 0.77620968, 0.81970046, 0.79233871,\n",
       "        0.7796659 , 0.80501152, 0.77822581, 0.77851382, 0.8234447 ]),\n",
       " 'split2_test_score': array([0.84677419, 0.76123272, 0.76900922, 0.81105991, 0.76929724,\n",
       "        0.77304147, 0.77793779, 0.76296083, 0.77793779, 0.81134793]),\n",
       " 'split3_test_score': array([0.75946863, 0.69559073, 0.69813454, 0.73827021, 0.71763708,\n",
       "        0.72724703, 0.73685698, 0.68993782, 0.72498587, 0.74703222]),\n",
       " 'split4_test_score': array([0.82230679, 0.83225995, 0.83021077, 0.8530445 , 0.83694379,\n",
       "        0.85070258, 0.84689696, 0.82933255, 0.84162763, 0.84250585]),\n",
       " 'mean_test_score': array([0.8134173 , 0.76962544, 0.77202851, 0.80524451, 0.78441848,\n",
       "        0.78621204, 0.79399733, 0.76860062, 0.78469367, 0.80736614]),\n",
       " 'std_test_score': array([0.03740618, 0.04413674, 0.04262345, 0.03745502, 0.03992606,\n",
       "        0.04013379, 0.03613542, 0.04515558, 0.03778127, 0.03217363]),\n",
       " 'rank_test_score': array([ 1,  9,  8,  3,  7,  5,  4, 10,  6,  2], dtype=int32)}"
      ]
     },
     "execution_count": 19,
     "metadata": {},
     "output_type": "execute_result"
    }
   ],
   "source": [
    "classifier_KNN.cv_results_"
   ]
  },
  {
   "cell_type": "markdown",
   "id": "08eaea69",
   "metadata": {},
   "source": [
    "### SVM"
   ]
  },
  {
   "cell_type": "code",
   "execution_count": 159,
   "id": "cd5ce339",
   "metadata": {},
   "outputs": [],
   "source": [
    "model3 = svm.SVC()\n",
    "param = {\n",
    "    'C': scipy.stats.expon(scale=100), \n",
    "    'gamma': scipy.stats.expon(scale=.1),\n",
    "    'kernel': [\"rbf\",\"linear\",\"poly\",\"sigmoid\"]\n",
    "        }"
   ]
  },
  {
   "cell_type": "code",
   "execution_count": 160,
   "id": "42340883",
   "metadata": {},
   "outputs": [],
   "source": [
    "classifier_SVM = RandomizedSearchCV(estimator = model3, \n",
    "                                param_distributions = param,\n",
    "                                cv = k,\n",
    "                                scoring = \"roc_auc\", \n",
    "                                random_state = seed\n",
    "                               )"
   ]
  },
  {
   "cell_type": "code",
   "execution_count": 161,
   "id": "0df650aa",
   "metadata": {},
   "outputs": [
    {
     "data": {
      "text/plain": [
       "RandomizedSearchCV(cv=5, estimator=SVC(),\n",
       "                   param_distributions={'C': <scipy.stats._distn_infrastructure.rv_frozen object at 0x7813cb3d77c0>,\n",
       "                                        'gamma': <scipy.stats._distn_infrastructure.rv_frozen object at 0x7813cb3d7490>,\n",
       "                                        'kernel': ['rbf', 'linear', 'poly',\n",
       "                                                   'sigmoid']},\n",
       "                   random_state=8241, scoring='roc_auc')"
      ]
     },
     "execution_count": 161,
     "metadata": {},
     "output_type": "execute_result"
    }
   ],
   "source": [
    "classifier_SVM.fit(X_train,y_train)"
   ]
  },
  {
   "cell_type": "markdown",
   "id": "2886f82b",
   "metadata": {},
   "source": [
    "### LDA "
   ]
  },
  {
   "cell_type": "code",
   "execution_count": 172,
   "id": "40c3791b",
   "metadata": {},
   "outputs": [],
   "source": [
    "model4 = LinearDiscriminantAnalysis()\n",
    "param = {\n",
    "    'solver': [\"svd\",\"lsqr\",\"eigen\"], \n",
    "    'n_components' : [0,1]\n",
    "}"
   ]
  },
  {
   "cell_type": "code",
   "execution_count": 173,
   "id": "774e4c16",
   "metadata": {},
   "outputs": [],
   "source": [
    "classifier_LDA = RandomizedSearchCV(estimator = model4,\n",
    "                                   param_distributions=param,\n",
    "                                   cv = k, \n",
    "                                   scoring= \"roc_auc\",\n",
    "                                   random_state=seed)"
   ]
  },
  {
   "cell_type": "code",
   "execution_count": 174,
   "id": "687ba65b",
   "metadata": {},
   "outputs": [
    {
     "name": "stderr",
     "output_type": "stream",
     "text": [
      "/usr/lib/python3/dist-packages/sklearn/model_selection/_search.py:278: UserWarning: The total space of parameters 6 is smaller than n_iter=10. Running 6 iterations. For exhaustive searches, use GridSearchCV.\n",
      "  warnings.warn(\n",
      "/usr/lib/python3/dist-packages/sklearn/model_selection/_validation.py:548: FitFailedWarning: Estimator fit failed. The score on this train-test partition for these parameters will be set to nan. Details: \n",
      "Traceback (most recent call last):\n",
      "  File \"/usr/lib/python3/dist-packages/sklearn/model_selection/_validation.py\", line 531, in _fit_and_score\n",
      "    estimator.fit(X_train, y_train, **fit_params)\n",
      "  File \"/usr/lib/python3/dist-packages/sklearn/discriminant_analysis.py\", line 468, in fit\n",
      "    self._solve_eigen(X, y, shrinkage=self.shrinkage)\n",
      "  File \"/usr/lib/python3/dist-packages/sklearn/discriminant_analysis.py\", line 335, in _solve_eigen\n",
      "    evals, evecs = linalg.eigh(Sb, Sw)\n",
      "  File \"/usr/lib/python3/dist-packages/scipy/linalg/_decomp.py\", line 580, in eigh\n",
      "    raise LinAlgError('The leading minor of order {} of B is not '\n",
      "numpy.linalg.LinAlgError: The leading minor of order 141 of B is not positive definite. The factorization of B could not be completed and no eigenvalues or eigenvectors were computed.\n",
      "\n",
      "  warnings.warn(\"Estimator fit failed. The score on this train-test\"\n",
      "/usr/lib/python3/dist-packages/sklearn/model_selection/_validation.py:548: FitFailedWarning: Estimator fit failed. The score on this train-test partition for these parameters will be set to nan. Details: \n",
      "Traceback (most recent call last):\n",
      "  File \"/usr/lib/python3/dist-packages/sklearn/model_selection/_validation.py\", line 531, in _fit_and_score\n",
      "    estimator.fit(X_train, y_train, **fit_params)\n",
      "  File \"/usr/lib/python3/dist-packages/sklearn/discriminant_analysis.py\", line 468, in fit\n",
      "    self._solve_eigen(X, y, shrinkage=self.shrinkage)\n",
      "  File \"/usr/lib/python3/dist-packages/sklearn/discriminant_analysis.py\", line 335, in _solve_eigen\n",
      "    evals, evecs = linalg.eigh(Sb, Sw)\n",
      "  File \"/usr/lib/python3/dist-packages/scipy/linalg/_decomp.py\", line 580, in eigh\n",
      "    raise LinAlgError('The leading minor of order {} of B is not '\n",
      "numpy.linalg.LinAlgError: The leading minor of order 148 of B is not positive definite. The factorization of B could not be completed and no eigenvalues or eigenvectors were computed.\n",
      "\n",
      "  warnings.warn(\"Estimator fit failed. The score on this train-test\"\n",
      "/usr/lib/python3/dist-packages/sklearn/model_selection/_validation.py:548: FitFailedWarning: Estimator fit failed. The score on this train-test partition for these parameters will be set to nan. Details: \n",
      "Traceback (most recent call last):\n",
      "  File \"/usr/lib/python3/dist-packages/sklearn/model_selection/_validation.py\", line 531, in _fit_and_score\n",
      "    estimator.fit(X_train, y_train, **fit_params)\n",
      "  File \"/usr/lib/python3/dist-packages/sklearn/discriminant_analysis.py\", line 468, in fit\n",
      "    self._solve_eigen(X, y, shrinkage=self.shrinkage)\n",
      "  File \"/usr/lib/python3/dist-packages/sklearn/discriminant_analysis.py\", line 335, in _solve_eigen\n",
      "    evals, evecs = linalg.eigh(Sb, Sw)\n",
      "  File \"/usr/lib/python3/dist-packages/scipy/linalg/_decomp.py\", line 580, in eigh\n",
      "    raise LinAlgError('The leading minor of order {} of B is not '\n",
      "numpy.linalg.LinAlgError: The leading minor of order 144 of B is not positive definite. The factorization of B could not be completed and no eigenvalues or eigenvectors were computed.\n",
      "\n",
      "  warnings.warn(\"Estimator fit failed. The score on this train-test\"\n",
      "/usr/lib/python3/dist-packages/sklearn/model_selection/_validation.py:548: FitFailedWarning: Estimator fit failed. The score on this train-test partition for these parameters will be set to nan. Details: \n",
      "Traceback (most recent call last):\n",
      "  File \"/usr/lib/python3/dist-packages/sklearn/model_selection/_validation.py\", line 531, in _fit_and_score\n",
      "    estimator.fit(X_train, y_train, **fit_params)\n",
      "  File \"/usr/lib/python3/dist-packages/sklearn/discriminant_analysis.py\", line 468, in fit\n",
      "    self._solve_eigen(X, y, shrinkage=self.shrinkage)\n",
      "  File \"/usr/lib/python3/dist-packages/sklearn/discriminant_analysis.py\", line 335, in _solve_eigen\n",
      "    evals, evecs = linalg.eigh(Sb, Sw)\n",
      "  File \"/usr/lib/python3/dist-packages/scipy/linalg/_decomp.py\", line 580, in eigh\n",
      "    raise LinAlgError('The leading minor of order {} of B is not '\n",
      "numpy.linalg.LinAlgError: The leading minor of order 141 of B is not positive definite. The factorization of B could not be completed and no eigenvalues or eigenvectors were computed.\n",
      "\n",
      "  warnings.warn(\"Estimator fit failed. The score on this train-test\"\n",
      "/usr/lib/python3/dist-packages/sklearn/model_selection/_validation.py:548: FitFailedWarning: Estimator fit failed. The score on this train-test partition for these parameters will be set to nan. Details: \n",
      "Traceback (most recent call last):\n",
      "  File \"/usr/lib/python3/dist-packages/sklearn/model_selection/_validation.py\", line 531, in _fit_and_score\n",
      "    estimator.fit(X_train, y_train, **fit_params)\n",
      "  File \"/usr/lib/python3/dist-packages/sklearn/discriminant_analysis.py\", line 468, in fit\n",
      "    self._solve_eigen(X, y, shrinkage=self.shrinkage)\n",
      "  File \"/usr/lib/python3/dist-packages/sklearn/discriminant_analysis.py\", line 335, in _solve_eigen\n",
      "    evals, evecs = linalg.eigh(Sb, Sw)\n",
      "  File \"/usr/lib/python3/dist-packages/scipy/linalg/_decomp.py\", line 580, in eigh\n",
      "    raise LinAlgError('The leading minor of order {} of B is not '\n",
      "numpy.linalg.LinAlgError: The leading minor of order 141 of B is not positive definite. The factorization of B could not be completed and no eigenvalues or eigenvectors were computed.\n",
      "\n",
      "  warnings.warn(\"Estimator fit failed. The score on this train-test\"\n",
      "/usr/lib/python3/dist-packages/sklearn/model_selection/_validation.py:548: FitFailedWarning: Estimator fit failed. The score on this train-test partition for these parameters will be set to nan. Details: \n",
      "Traceback (most recent call last):\n",
      "  File \"/usr/lib/python3/dist-packages/sklearn/model_selection/_validation.py\", line 531, in _fit_and_score\n",
      "    estimator.fit(X_train, y_train, **fit_params)\n",
      "  File \"/usr/lib/python3/dist-packages/sklearn/discriminant_analysis.py\", line 468, in fit\n",
      "    self._solve_eigen(X, y, shrinkage=self.shrinkage)\n",
      "  File \"/usr/lib/python3/dist-packages/sklearn/discriminant_analysis.py\", line 335, in _solve_eigen\n",
      "    evals, evecs = linalg.eigh(Sb, Sw)\n",
      "  File \"/usr/lib/python3/dist-packages/scipy/linalg/_decomp.py\", line 580, in eigh\n",
      "    raise LinAlgError('The leading minor of order {} of B is not '\n",
      "numpy.linalg.LinAlgError: The leading minor of order 141 of B is not positive definite. The factorization of B could not be completed and no eigenvalues or eigenvectors were computed.\n",
      "\n",
      "  warnings.warn(\"Estimator fit failed. The score on this train-test\"\n",
      "/usr/lib/python3/dist-packages/sklearn/model_selection/_validation.py:548: FitFailedWarning: Estimator fit failed. The score on this train-test partition for these parameters will be set to nan. Details: \n",
      "Traceback (most recent call last):\n",
      "  File \"/usr/lib/python3/dist-packages/sklearn/model_selection/_validation.py\", line 531, in _fit_and_score\n",
      "    estimator.fit(X_train, y_train, **fit_params)\n",
      "  File \"/usr/lib/python3/dist-packages/sklearn/discriminant_analysis.py\", line 468, in fit\n",
      "    self._solve_eigen(X, y, shrinkage=self.shrinkage)\n",
      "  File \"/usr/lib/python3/dist-packages/sklearn/discriminant_analysis.py\", line 335, in _solve_eigen\n",
      "    evals, evecs = linalg.eigh(Sb, Sw)\n",
      "  File \"/usr/lib/python3/dist-packages/scipy/linalg/_decomp.py\", line 580, in eigh\n",
      "    raise LinAlgError('The leading minor of order {} of B is not '\n",
      "numpy.linalg.LinAlgError: The leading minor of order 148 of B is not positive definite. The factorization of B could not be completed and no eigenvalues or eigenvectors were computed.\n",
      "\n",
      "  warnings.warn(\"Estimator fit failed. The score on this train-test\"\n",
      "/usr/lib/python3/dist-packages/sklearn/model_selection/_validation.py:548: FitFailedWarning: Estimator fit failed. The score on this train-test partition for these parameters will be set to nan. Details: \n",
      "Traceback (most recent call last):\n",
      "  File \"/usr/lib/python3/dist-packages/sklearn/model_selection/_validation.py\", line 531, in _fit_and_score\n",
      "    estimator.fit(X_train, y_train, **fit_params)\n",
      "  File \"/usr/lib/python3/dist-packages/sklearn/discriminant_analysis.py\", line 468, in fit\n",
      "    self._solve_eigen(X, y, shrinkage=self.shrinkage)\n",
      "  File \"/usr/lib/python3/dist-packages/sklearn/discriminant_analysis.py\", line 335, in _solve_eigen\n",
      "    evals, evecs = linalg.eigh(Sb, Sw)\n",
      "  File \"/usr/lib/python3/dist-packages/scipy/linalg/_decomp.py\", line 580, in eigh\n",
      "    raise LinAlgError('The leading minor of order {} of B is not '\n",
      "numpy.linalg.LinAlgError: The leading minor of order 144 of B is not positive definite. The factorization of B could not be completed and no eigenvalues or eigenvectors were computed.\n",
      "\n",
      "  warnings.warn(\"Estimator fit failed. The score on this train-test\"\n",
      "/usr/lib/python3/dist-packages/sklearn/model_selection/_validation.py:548: FitFailedWarning: Estimator fit failed. The score on this train-test partition for these parameters will be set to nan. Details: \n",
      "Traceback (most recent call last):\n",
      "  File \"/usr/lib/python3/dist-packages/sklearn/model_selection/_validation.py\", line 531, in _fit_and_score\n",
      "    estimator.fit(X_train, y_train, **fit_params)\n",
      "  File \"/usr/lib/python3/dist-packages/sklearn/discriminant_analysis.py\", line 468, in fit\n",
      "    self._solve_eigen(X, y, shrinkage=self.shrinkage)\n",
      "  File \"/usr/lib/python3/dist-packages/sklearn/discriminant_analysis.py\", line 335, in _solve_eigen\n",
      "    evals, evecs = linalg.eigh(Sb, Sw)\n",
      "  File \"/usr/lib/python3/dist-packages/scipy/linalg/_decomp.py\", line 580, in eigh\n",
      "    raise LinAlgError('The leading minor of order {} of B is not '\n",
      "numpy.linalg.LinAlgError: The leading minor of order 141 of B is not positive definite. The factorization of B could not be completed and no eigenvalues or eigenvectors were computed.\n",
      "\n",
      "  warnings.warn(\"Estimator fit failed. The score on this train-test\"\n",
      "/usr/lib/python3/dist-packages/sklearn/model_selection/_validation.py:548: FitFailedWarning: Estimator fit failed. The score on this train-test partition for these parameters will be set to nan. Details: \n",
      "Traceback (most recent call last):\n",
      "  File \"/usr/lib/python3/dist-packages/sklearn/model_selection/_validation.py\", line 531, in _fit_and_score\n",
      "    estimator.fit(X_train, y_train, **fit_params)\n",
      "  File \"/usr/lib/python3/dist-packages/sklearn/discriminant_analysis.py\", line 468, in fit\n",
      "    self._solve_eigen(X, y, shrinkage=self.shrinkage)\n",
      "  File \"/usr/lib/python3/dist-packages/sklearn/discriminant_analysis.py\", line 335, in _solve_eigen\n",
      "    evals, evecs = linalg.eigh(Sb, Sw)\n",
      "  File \"/usr/lib/python3/dist-packages/scipy/linalg/_decomp.py\", line 580, in eigh\n",
      "    raise LinAlgError('The leading minor of order {} of B is not '\n",
      "numpy.linalg.LinAlgError: The leading minor of order 141 of B is not positive definite. The factorization of B could not be completed and no eigenvalues or eigenvectors were computed.\n",
      "\n",
      "  warnings.warn(\"Estimator fit failed. The score on this train-test\"\n"
     ]
    },
    {
     "data": {
      "text/plain": [
       "RandomizedSearchCV(cv=5, estimator=LinearDiscriminantAnalysis(),\n",
       "                   param_distributions={'n_components': [0, 1],\n",
       "                                        'solver': ['svd', 'lsqr', 'eigen']},\n",
       "                   random_state=8241, scoring='roc_auc')"
      ]
     },
     "execution_count": 174,
     "metadata": {},
     "output_type": "execute_result"
    }
   ],
   "source": [
    "classifier_LDA.fit(X_train,y_train)"
   ]
  },
  {
   "cell_type": "code",
   "execution_count": 175,
   "id": "23bd4ebf",
   "metadata": {},
   "outputs": [
    {
     "data": {
      "text/plain": [
       "{'solver': 'svd', 'n_components': 0}"
      ]
     },
     "execution_count": 175,
     "metadata": {},
     "output_type": "execute_result"
    }
   ],
   "source": [
    "classifier_LDA.best_params_"
   ]
  },
  {
   "cell_type": "markdown",
   "id": "a8153d06",
   "metadata": {},
   "source": [
    "### Naive Bayes "
   ]
  },
  {
   "cell_type": "code",
   "execution_count": null,
   "id": "5f10dd70",
   "metadata": {},
   "outputs": [],
   "source": []
  }
 ],
 "metadata": {
  "kernelspec": {
   "display_name": "Python 3 (ipykernel)",
   "language": "python",
   "name": "python3"
  },
  "language_info": {
   "codemirror_mode": {
    "name": "ipython",
    "version": 3
   },
   "file_extension": ".py",
   "mimetype": "text/x-python",
   "name": "python",
   "nbconvert_exporter": "python",
   "pygments_lexer": "ipython3",
   "version": "3.10.12"
  }
 },
 "nbformat": 4,
 "nbformat_minor": 5
}
