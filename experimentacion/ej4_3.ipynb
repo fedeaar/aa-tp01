{
 "cells": [
  {
   "cell_type": "code",
   "execution_count": 5,
   "id": "19ecd871",
   "metadata": {},
   "outputs": [],
   "source": [
    "import matplotlib.pyplot as plt\n",
    "from sklearn.model_selection import StratifiedKFold, RandomizedSearchCV\n",
    "from sklearn.ensemble import RandomForestClassifier\n",
    "import scipy.stats as stats\n",
    "\n",
    "from utils.cross_validation import cross_validate\n",
    "from utils.metrics import aucroc\n",
    "from utils.estimators import ForestTreeWrapper\n",
    "from utils.randomized_search import rs_results\n",
    "from utils.base_set import X_train, y_train, seed"
   ]
  },
  {
   "cell_type": "markdown",
   "id": "08eaea69",
   "metadata": {},
   "source": [
    "### Forest"
   ]
  },
  {
   "cell_type": "code",
   "execution_count": 8,
   "id": "277904f8",
   "metadata": {},
   "outputs": [
    {
     "name": "stdout",
     "output_type": "stream",
     "text": [
      "Fitting 5 folds for each of 100 candidates, totalling 500 fits\n"
     ]
    },
    {
     "data": {
      "text/html": [
       "<div>\n",
       "<style scoped>\n",
       "    .dataframe tbody tr th:only-of-type {\n",
       "        vertical-align: middle;\n",
       "    }\n",
       "\n",
       "    .dataframe tbody tr th {\n",
       "        vertical-align: top;\n",
       "    }\n",
       "\n",
       "    .dataframe thead th {\n",
       "        text-align: right;\n",
       "    }\n",
       "</style>\n",
       "<table border=\"1\" class=\"dataframe\">\n",
       "  <thead>\n",
       "    <tr style=\"text-align: right;\">\n",
       "      <th></th>\n",
       "      <th>param_criterion</th>\n",
       "      <th>param_max_depth</th>\n",
       "      <th>param_max_features</th>\n",
       "      <th>mean_test_score</th>\n",
       "      <th>rank_test_score</th>\n",
       "    </tr>\n",
       "  </thead>\n",
       "  <tbody>\n",
       "    <tr>\n",
       "      <th>85</th>\n",
       "      <td>log_loss</td>\n",
       "      <td>3</td>\n",
       "      <td>128</td>\n",
       "      <td>0.810192</td>\n",
       "      <td>1</td>\n",
       "    </tr>\n",
       "    <tr>\n",
       "      <th>79</th>\n",
       "      <td>gini</td>\n",
       "      <td>3</td>\n",
       "      <td>44</td>\n",
       "      <td>0.810028</td>\n",
       "      <td>2</td>\n",
       "    </tr>\n",
       "    <tr>\n",
       "      <th>35</th>\n",
       "      <td>log_loss</td>\n",
       "      <td>3</td>\n",
       "      <td>162</td>\n",
       "      <td>0.806839</td>\n",
       "      <td>3</td>\n",
       "    </tr>\n",
       "    <tr>\n",
       "      <th>23</th>\n",
       "      <td>entropy</td>\n",
       "      <td>3</td>\n",
       "      <td>99</td>\n",
       "      <td>0.806537</td>\n",
       "      <td>4</td>\n",
       "    </tr>\n",
       "    <tr>\n",
       "      <th>46</th>\n",
       "      <td>entropy</td>\n",
       "      <td>3</td>\n",
       "      <td>53</td>\n",
       "      <td>0.803118</td>\n",
       "      <td>5</td>\n",
       "    </tr>\n",
       "    <tr>\n",
       "      <th>...</th>\n",
       "      <td>...</td>\n",
       "      <td>...</td>\n",
       "      <td>...</td>\n",
       "      <td>...</td>\n",
       "      <td>...</td>\n",
       "    </tr>\n",
       "    <tr>\n",
       "      <th>43</th>\n",
       "      <td>gini</td>\n",
       "      <td>1</td>\n",
       "      <td>148</td>\n",
       "      <td>0.737533</td>\n",
       "      <td>96</td>\n",
       "    </tr>\n",
       "    <tr>\n",
       "      <th>55</th>\n",
       "      <td>gini</td>\n",
       "      <td>1</td>\n",
       "      <td>152</td>\n",
       "      <td>0.734359</td>\n",
       "      <td>97</td>\n",
       "    </tr>\n",
       "    <tr>\n",
       "      <th>68</th>\n",
       "      <td>log_loss</td>\n",
       "      <td>1</td>\n",
       "      <td>192</td>\n",
       "      <td>0.732339</td>\n",
       "      <td>98</td>\n",
       "    </tr>\n",
       "    <tr>\n",
       "      <th>53</th>\n",
       "      <td>log_loss</td>\n",
       "      <td>1</td>\n",
       "      <td>190</td>\n",
       "      <td>0.726221</td>\n",
       "      <td>99</td>\n",
       "    </tr>\n",
       "    <tr>\n",
       "      <th>0</th>\n",
       "      <td>entropy</td>\n",
       "      <td>1</td>\n",
       "      <td>2</td>\n",
       "      <td>0.619830</td>\n",
       "      <td>100</td>\n",
       "    </tr>\n",
       "  </tbody>\n",
       "</table>\n",
       "<p>100 rows × 5 columns</p>\n",
       "</div>"
      ],
      "text/plain": [
       "   param_criterion param_max_depth param_max_features  mean_test_score  \\\n",
       "85        log_loss               3                128         0.810192   \n",
       "79            gini               3                 44         0.810028   \n",
       "35        log_loss               3                162         0.806839   \n",
       "23         entropy               3                 99         0.806537   \n",
       "46         entropy               3                 53         0.803118   \n",
       "..             ...             ...                ...              ...   \n",
       "43            gini               1                148         0.737533   \n",
       "55            gini               1                152         0.734359   \n",
       "68        log_loss               1                192         0.732339   \n",
       "53        log_loss               1                190         0.726221   \n",
       "0          entropy               1                  2         0.619830   \n",
       "\n",
       "    rank_test_score  \n",
       "85                1  \n",
       "79                2  \n",
       "35                3  \n",
       "23                4  \n",
       "46                5  \n",
       "..              ...  \n",
       "43               96  \n",
       "55               97  \n",
       "68               98  \n",
       "53               99  \n",
       "0               100  \n",
       "\n",
       "[100 rows x 5 columns]"
      ]
     },
     "execution_count": 8,
     "metadata": {},
     "output_type": "execute_result"
    }
   ],
   "source": [
    "n = X_train.shape[0]\n",
    "p = X_train.shape[1]\n",
    "model = RandomForestClassifier()\n",
    "k = 5\n",
    "cv = StratifiedKFold(n_splits=k, shuffle=True, random_state=seed)\n",
    "params = {\n",
    "    \"criterion\": [\"gini\", \"entropy\", \"log_loss\"],\n",
    "    \"max_depth\": stats.randint(1, 4),\n",
    "    \"max_features\": stats.randint(1, p),\n",
    "}\n",
    "n_iter = 100\n",
    "classifier_RForest = RandomizedSearchCV(estimator=model, \n",
    "                                    param_distributions=params, \n",
    "                                    n_iter=n_iter, \n",
    "                                    cv=cv, \n",
    "                                    scoring='roc_auc',\n",
    "                                    verbose=True,\n",
    "                                    random_state=seed)\n",
    "classifier_RForest.fit(X_train, y_train)\n",
    "rs_results(classifier_RForest.cv_results_, params)"
   ]
  },
  {
   "cell_type": "code",
   "execution_count": 9,
   "id": "c5414e99",
   "metadata": {},
   "outputs": [],
   "source": [
    "best_params = classifier_RForest.best_params_\n",
    "del best_params[\"max_features\"]"
   ]
  },
  {
   "cell_type": "markdown",
   "id": "2d3c9af5",
   "metadata": {},
   "source": [
    "### Complexity curve"
   ]
  },
  {
   "cell_type": "code",
   "execution_count": 10,
   "id": "cd5ce339",
   "metadata": {},
   "outputs": [],
   "source": [
    "mean_val_scores = []\n",
    "std_val_scores = []\n",
    "mean_train_scores = []\n",
    "std_train_scores = []\n",
    "\n",
    "k = 5\n",
    "cv = StratifiedKFold(n_splits=k, shuffle=True, random_state=seed)\n",
    "cols_val = [f\"split_val_{i}\" for i in range(k)]\n",
    "cols_train = [f\"split_train_{i}\" for i in range(k)]\n",
    "max_features_values =  range(10, p, 10)\n",
    "for mf in max_features_values:\n",
    "    rf = ForestTreeWrapper(**best_params, max_features=mf, random_state=seed)\n",
    "    auc_scores, _ = cross_validate(rf, X_train, y_train, metric=aucroc, use_decision=True, cv=cv)\n",
    "    mean_val_scores.append(auc_scores.mean_val.aucroc)\n",
    "    std_val_scores.append(auc_scores[cols_val].std(axis=1).aucroc)\n",
    "    mean_train_scores.append(auc_scores.mean_train.aucroc)\n",
    "    std_train_scores.append(auc_scores[cols_train].std(axis=1).aucroc)"
   ]
  },
  {
   "cell_type": "code",
   "execution_count": 11,
   "id": "e6e691d7",
   "metadata": {},
   "outputs": [
    {
     "data": {
      "image/png": "[encoded data removed]",
      "text/plain": [
       "<Figure size 1000x600 with 1 Axes>"
      ]
     },
     "metadata": {},
     "output_type": "display_data"
    }
   ],
   "source": [
    "plt.figure(figsize=(10, 6))\n",
    "plt.errorbar(max_features_values, mean_val_scores, std_val_scores, fmt='-o', label=\"validation\")\n",
    "plt.errorbar(max_features_values, mean_train_scores, std_train_scores, fmt='-o', label=\"train\")\n",
    "plt.legend()\n",
    "plt.xlabel('Cantidad máxima de atributos')\n",
    "plt.ylabel('AUC ROC')\n",
    "# plt.title('Curva de Complejidad para Árbol de Decisión (criterion=Entropy)')\n",
    "plt.grid(True)\n",
    "plt.show()"
   ]
  },
  {
   "cell_type": "code",
   "execution_count": 12,
   "id": "2f32b833",
   "metadata": {},
   "outputs": [
    {
     "data": {
      "text/plain": [
       "0.8079921614700695"
      ]
     },
     "execution_count": 12,
     "metadata": {},
     "output_type": "execute_result"
    }
   ],
   "source": [
    "max(mean_val_scores)"
   ]
  }
 ],
 "metadata": {
  "kernelspec": {
   "display_name": "Python 3 (ipykernel)",
   "language": "python",
   "name": "python3"
  },
  "language_info": {
   "codemirror_mode": {
    "name": "ipython",
    "version": 3
   },
   "file_extension": ".py",
   "mimetype": "text/x-python",
   "name": "python",
   "nbconvert_exporter": "python",
   "pygments_lexer": "ipython3",
   "version": "3.10.12"
  }
 },
 "nbformat": 4,
 "nbformat_minor": 5
}
