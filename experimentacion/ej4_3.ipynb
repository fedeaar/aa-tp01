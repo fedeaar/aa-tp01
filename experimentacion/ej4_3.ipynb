{
 "cells": [
  {
   "cell_type": "code",
   "execution_count": 4,
   "id": "19ecd871",
   "metadata": {},
   "outputs": [],
   "source": [
    "import matplotlib.pyplot as plt\n",
    "from sklearn.model_selection import StratifiedKFold, RandomizedSearchCV\n",
    "from sklearn.ensemble import RandomForestClassifier\n",
    "import scipy.stats as stats\n",
    "\n",
    "from utils.cross_validation import cross_validate\n",
    "from utils.metrics import aucroc\n",
    "from utils.estimators import ForestTreeWrapper\n",
    "from utils.randomized_search import rs_results\n",
    "from utils.base_set import X_train, y_train, seed"
   ]
  },
  {
   "cell_type": "markdown",
   "id": "08eaea69",
   "metadata": {},
   "source": [
    "### Forest"
   ]
  },
  {
   "cell_type": "code",
   "execution_count": 5,
   "id": "277904f8",
   "metadata": {},
   "outputs": [
    {
     "name": "stdout",
     "output_type": "stream",
     "text": [
      "Fitting 5 folds for each of 100 candidates, totalling 500 fits\n"
     ]
    },
    {
     "data": {
      "text/html": [
       "<div>\n",
       "<style scoped>\n",
       "    .dataframe tbody tr th:only-of-type {\n",
       "        vertical-align: middle;\n",
       "    }\n",
       "\n",
       "    .dataframe tbody tr th {\n",
       "        vertical-align: top;\n",
       "    }\n",
       "\n",
       "    .dataframe thead th {\n",
       "        text-align: right;\n",
       "    }\n",
       "</style>\n",
       "<table border=\"1\" class=\"dataframe\">\n",
       "  <thead>\n",
       "    <tr style=\"text-align: right;\">\n",
       "      <th></th>\n",
       "      <th>param_criterion</th>\n",
       "      <th>param_max_depth</th>\n",
       "      <th>param_max_features</th>\n",
       "      <th>mean_test_score</th>\n",
       "      <th>rank_test_score</th>\n",
       "    </tr>\n",
       "  </thead>\n",
       "  <tbody>\n",
       "    <tr>\n",
       "      <th>38</th>\n",
       "      <td>log_loss</td>\n",
       "      <td>3</td>\n",
       "      <td>121</td>\n",
       "      <td>0.808805</td>\n",
       "      <td>1</td>\n",
       "    </tr>\n",
       "    <tr>\n",
       "      <th>79</th>\n",
       "      <td>gini</td>\n",
       "      <td>3</td>\n",
       "      <td>44</td>\n",
       "      <td>0.806032</td>\n",
       "      <td>2</td>\n",
       "    </tr>\n",
       "    <tr>\n",
       "      <th>30</th>\n",
       "      <td>gini</td>\n",
       "      <td>3</td>\n",
       "      <td>121</td>\n",
       "      <td>0.805884</td>\n",
       "      <td>3</td>\n",
       "    </tr>\n",
       "    <tr>\n",
       "      <th>45</th>\n",
       "      <td>entropy</td>\n",
       "      <td>3</td>\n",
       "      <td>42</td>\n",
       "      <td>0.804157</td>\n",
       "      <td>4</td>\n",
       "    </tr>\n",
       "    <tr>\n",
       "      <th>69</th>\n",
       "      <td>entropy</td>\n",
       "      <td>3</td>\n",
       "      <td>91</td>\n",
       "      <td>0.803100</td>\n",
       "      <td>5</td>\n",
       "    </tr>\n",
       "    <tr>\n",
       "      <th>...</th>\n",
       "      <td>...</td>\n",
       "      <td>...</td>\n",
       "      <td>...</td>\n",
       "      <td>...</td>\n",
       "      <td>...</td>\n",
       "    </tr>\n",
       "    <tr>\n",
       "      <th>13</th>\n",
       "      <td>log_loss</td>\n",
       "      <td>1</td>\n",
       "      <td>191</td>\n",
       "      <td>0.738369</td>\n",
       "      <td>96</td>\n",
       "    </tr>\n",
       "    <tr>\n",
       "      <th>43</th>\n",
       "      <td>gini</td>\n",
       "      <td>1</td>\n",
       "      <td>148</td>\n",
       "      <td>0.737750</td>\n",
       "      <td>97</td>\n",
       "    </tr>\n",
       "    <tr>\n",
       "      <th>53</th>\n",
       "      <td>log_loss</td>\n",
       "      <td>1</td>\n",
       "      <td>190</td>\n",
       "      <td>0.728738</td>\n",
       "      <td>98</td>\n",
       "    </tr>\n",
       "    <tr>\n",
       "      <th>68</th>\n",
       "      <td>log_loss</td>\n",
       "      <td>1</td>\n",
       "      <td>192</td>\n",
       "      <td>0.723209</td>\n",
       "      <td>99</td>\n",
       "    </tr>\n",
       "    <tr>\n",
       "      <th>0</th>\n",
       "      <td>entropy</td>\n",
       "      <td>1</td>\n",
       "      <td>2</td>\n",
       "      <td>0.692565</td>\n",
       "      <td>100</td>\n",
       "    </tr>\n",
       "  </tbody>\n",
       "</table>\n",
       "<p>100 rows × 5 columns</p>\n",
       "</div>"
      ],
      "text/plain": [
       "   param_criterion param_max_depth param_max_features  mean_test_score  \\\n",
       "38        log_loss               3                121         0.808805   \n",
       "79            gini               3                 44         0.806032   \n",
       "30            gini               3                121         0.805884   \n",
       "45         entropy               3                 42         0.804157   \n",
       "69         entropy               3                 91         0.803100   \n",
       "..             ...             ...                ...              ...   \n",
       "13        log_loss               1                191         0.738369   \n",
       "43            gini               1                148         0.737750   \n",
       "53        log_loss               1                190         0.728738   \n",
       "68        log_loss               1                192         0.723209   \n",
       "0          entropy               1                  2         0.692565   \n",
       "\n",
       "    rank_test_score  \n",
       "38                1  \n",
       "79                2  \n",
       "30                3  \n",
       "45                4  \n",
       "69                5  \n",
       "..              ...  \n",
       "13               96  \n",
       "43               97  \n",
       "53               98  \n",
       "68               99  \n",
       "0               100  \n",
       "\n",
       "[100 rows x 5 columns]"
      ]
     },
     "execution_count": 5,
     "metadata": {},
     "output_type": "execute_result"
    }
   ],
   "source": [
    "n = X_train.shape[0]\n",
    "p = X_train.shape[1]\n",
    "model = RandomForestClassifier()\n",
    "k = 5\n",
    "cv = StratifiedKFold(n_splits=k, shuffle=True, random_state=seed)\n",
    "params = {\n",
    "    \"criterion\": [\"gini\", \"entropy\", \"log_loss\"],\n",
    "    \"max_depth\": stats.randint(1, 4),\n",
    "    \"max_features\": stats.randint(1, p),\n",
    "}\n",
    "n_iter = 100\n",
    "classifier_RForest = RandomizedSearchCV(estimator=model, \n",
    "                                    param_distributions=params, \n",
    "                                    n_iter=n_iter, \n",
    "                                    cv=cv, \n",
    "                                    scoring='roc_auc',\n",
    "                                    verbose=True,\n",
    "                                    random_state=seed)\n",
    "classifier_RForest.fit(X_train, y_train)\n",
    "rs_results(classifier_RForest.cv_results_, params)"
   ]
  },
  {
   "cell_type": "code",
   "execution_count": 6,
   "id": "c5414e99",
   "metadata": {},
   "outputs": [
    {
     "name": "stdout",
     "output_type": "stream",
     "text": [
      "{'criterion': 'log_loss', 'max_depth': 3}\n",
      "200\n"
     ]
    }
   ],
   "source": [
    "# best_params = classifier_RForest.best_params_\n",
    "# del best_params[\"max_features\"]\n",
    "best_params = {'criterion': 'log_loss', 'max_depth': 3}\n",
    "print(best_params)\n",
    "print(p)"
   ]
  },
  {
   "cell_type": "markdown",
   "id": "2d3c9af5",
   "metadata": {},
   "source": [
    "### Curva de complejidad"
   ]
  },
  {
   "cell_type": "code",
   "execution_count": 7,
   "id": "cd5ce339",
   "metadata": {},
   "outputs": [],
   "source": [
    "mean_val_scores = []\n",
    "std_val_scores = []\n",
    "mean_train_scores = []\n",
    "std_train_scores = []\n",
    "\n",
    "k = 5\n",
    "cv = StratifiedKFold(n_splits=k, shuffle=True, random_state=seed)\n",
    "cols_val = [f\"split_val_{i}\" for i in range(k)]\n",
    "cols_train = [f\"split_train_{i}\" for i in range(k)]\n",
    "max_features_values =  [1, 2, 3, 5, 7, 10, 15, 25, 40, 60, 80, 100, 120, 140, 160, 180, 200]\n",
    "for mf in max_features_values:\n",
    "    rf = ForestTreeWrapper(**best_params, max_features=mf, random_state=seed)\n",
    "    auc_scores, _ = cross_validate(rf, X_train, y_train, metric=aucroc, use_decision=True, cv=cv)\n",
    "    mean_val_scores.append(auc_scores.mean_val.aucroc)\n",
    "    std_val_scores.append(auc_scores[cols_val].std(axis=1).aucroc)\n",
    "    mean_train_scores.append(auc_scores.mean_train.aucroc)\n",
    "    std_train_scores.append(auc_scores[cols_train].std(axis=1).aucroc)"
   ]
  },
  {
   "cell_type": "code",
   "execution_count": 9,
   "id": "e6e691d7",
   "metadata": {},
   "outputs": [
    {
     "data": {
      "image/png": "[encoded data removed]",
      "text/plain": [
       "<Figure size 1000x600 with 1 Axes>"
      ]
     },
     "metadata": {},
     "output_type": "display_data"
    }
   ],
   "source": [
    "plt.figure(figsize=(10, 6))\n",
    "# plt.errorbar(max_features_values, mean_val_scores, std_val_scores, fmt='-o', label=\"validation\")\n",
    "plt.plot(max_features_values, mean_val_scores, '-o', label=\"validation\")\n",
    "plt.plot(max_features_values, mean_train_scores,'-o', label=\"train\")\n",
    "plt.errorbar(max_features_values, mean_train_scores, std_train_scores, fmt='-o', label=\"train\")\n",
    "plt.scatter(max_features_values, mean_train_scores, label=\"train\")\n",
    "\n",
    "plt.plot()\n",
    "plt.legend(fontsize=14)\n",
    "plt.xlabel('Cantidad máxima de atributos', fontsize=14)\n",
    "plt.ylabel('aucroc', fontsize=14)\n",
    "plt.tick_params(axis=\"x\", labelsize=12)\n",
    "plt.tick_params(axis=\"y\", labelsize=12)\n",
    "# plt.title('Curva de Complejidad para Árbol de Decisión (criterion=Entropy)')\n",
    "plt.grid(True)\n",
    "plt.show()"
   ]
  },
  {
   "cell_type": "code",
   "execution_count": null,
   "id": "2f32b833",
   "metadata": {},
   "outputs": [
    {
     "data": {
      "text/plain": [
       "0.8079921614700695"
      ]
     },
     "execution_count": 12,
     "metadata": {},
     "output_type": "execute_result"
    }
   ],
   "source": [
    "max(mean_val_scores)"
   ]
  },
  {
   "cell_type": "markdown",
   "id": "56588a1f",
   "metadata": {},
   "source": [
    "### Curva de aprendizaje"
   ]
  },
  {
   "cell_type": "code",
   "execution_count": null,
   "id": "e5ca1f5d",
   "metadata": {},
   "outputs": [],
   "source": [
    "mean_val_scores = []\n",
    "std_val_scores = []\n",
    "mean_train_scores = []\n",
    "std_train_scores = []\n",
    " \n",
    "best_params = best_params\n",
    "best_params[\"max_features\"] = 30\n",
    "k = 5\n",
    "n = X_train.shape[0]\n",
    "cv = StratifiedKFold(n_splits=k, shuffle=True, random_state=seed)\n",
    "cols_val = [f\"split_val_{i}\" for i in range(k)]\n",
    "cols_train = [f\"split_train_{i}\" for i in range(k)]\n",
    "train = range(30, n, 10)\n",
    "for idx in train:\n",
    "    rf = ForestTreeWrapper(**best_params, random_state=seed)\n",
    "    auc_scores, _ = cross_validate(rf, X_train[:idx,], y_train[:idx,], metric=aucroc, use_decision=True, cv=cv)\n",
    "    mean_val_scores.append(auc_scores.mean_val.aucroc)\n",
    "    std_val_scores.append(auc_scores[cols_val].std(axis=1).aucroc)\n",
    "    mean_train_scores.append(auc_scores.mean_train.aucroc)\n",
    "    std_train_scores.append(auc_scores[cols_train].std(axis=1).aucroc)"
   ]
  },
  {
   "cell_type": "code",
   "execution_count": 10,
   "id": "ede5919a",
   "metadata": {},
   "outputs": [
    {
     "ename": "NameError",
     "evalue": "name 'train' is not defined",
     "output_type": "error",
     "traceback": [
      "\u001b[0;31m---------------------------------------------------------------------------\u001b[0m",
      "\u001b[0;31mNameError\u001b[0m                                 Traceback (most recent call last)",
      "Cell \u001b[0;32mIn[10], line 2\u001b[0m\n\u001b[1;32m      1\u001b[0m plt\u001b[38;5;241m.\u001b[39mfigure(figsize\u001b[38;5;241m=\u001b[39m(\u001b[38;5;241m10\u001b[39m, \u001b[38;5;241m6\u001b[39m))\n\u001b[0;32m----> 2\u001b[0m plt\u001b[38;5;241m.\u001b[39merrorbar(\u001b[43mtrain\u001b[49m, mean_val_scores, std_val_scores, fmt\u001b[38;5;241m=\u001b[39m\u001b[38;5;124m'\u001b[39m\u001b[38;5;124m-o\u001b[39m\u001b[38;5;124m'\u001b[39m, label\u001b[38;5;241m=\u001b[39m\u001b[38;5;124m\"\u001b[39m\u001b[38;5;124mvalidation\u001b[39m\u001b[38;5;124m\"\u001b[39m)\n\u001b[1;32m      3\u001b[0m plt\u001b[38;5;241m.\u001b[39merrorbar(train, mean_train_scores, std_train_scores, fmt\u001b[38;5;241m=\u001b[39m\u001b[38;5;124m'\u001b[39m\u001b[38;5;124m-o\u001b[39m\u001b[38;5;124m'\u001b[39m, label\u001b[38;5;241m=\u001b[39m\u001b[38;5;124m\"\u001b[39m\u001b[38;5;124mtrain\u001b[39m\u001b[38;5;124m\"\u001b[39m)\n\u001b[1;32m      4\u001b[0m plt\u001b[38;5;241m.\u001b[39mlegend(fontsize\u001b[38;5;241m=\u001b[39m\u001b[38;5;241m14\u001b[39m)\n",
      "\u001b[0;31mNameError\u001b[0m: name 'train' is not defined"
     ]
    },
    {
     "data": {
      "text/plain": [
       "<Figure size 1000x600 with 0 Axes>"
      ]
     },
     "metadata": {},
     "output_type": "display_data"
    }
   ],
   "source": [
    "plt.figure(figsize=(10, 6))\n",
    "plt.errorbar(train, mean_val_scores, std_val_scores, fmt='-o', label=\"validation\")\n",
    "plt.errorbar(train, mean_train_scores, std_train_scores, fmt='-o', label=\"train\")\n",
    "plt.legend(fontsize=14)\n",
    "plt.xlabel('Cantidad de datos', fontsize=14)\n",
    "plt.ylabel('aucroc', fontsize=14)\n",
    "plt.tick_params(axis=\"x\", labelsize=12)\n",
    "plt.tick_params(axis=\"y\", labelsize=12)\n",
    "# plt.title('Curva de Complejidad para Árbol de Decisión (criterion=Entropy)')\n",
    "plt.grid(True)\n",
    "plt.show()"
   ]
  }
 ],
 "metadata": {
  "kernelspec": {
   "display_name": "Python 3 (ipykernel)",
   "language": "python",
   "name": "python3"
  },
  "language_info": {
   "codemirror_mode": {
    "name": "ipython",
    "version": 3
   },
   "file_extension": ".py",
   "mimetype": "text/x-python",
   "name": "python",
   "nbconvert_exporter": "python",
   "pygments_lexer": "ipython3",
   "version": "3.10.12"
  }
 },
 "nbformat": 4,
 "nbformat_minor": 5
}
